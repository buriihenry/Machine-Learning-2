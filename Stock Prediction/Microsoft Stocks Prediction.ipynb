{
 "cells": [
  {
   "cell_type": "markdown",
   "metadata": {},
   "source": [
    "## Project"
   ]
  },
  {
   "cell_type": "markdown",
   "metadata": {},
   "source": [
    "we will examine the stock price of Microsoft Corporation (MSFT) as reported by the National Association of Securities Dealers Automated Quotations (NASDAQ)\n",
    "\n",
    "MSFT’s stocks are listed on NASDAQ and their value is updated every working day of the stock market. It should be noted that the market does not allow trading on Saturdays and Sundays, therefore there is a gap between the two dates. The Opening Value of the stock, the Highest and Lowest values of that stock on the same days, as well as the Closing Value at the end of the day, are all indicated for each date."
   ]
  },
  {
   "cell_type": "code",
   "execution_count": 1,
   "metadata": {},
   "outputs": [],
   "source": [
    "# importing Libraries \n",
    "import pandas as pd\n",
    "import numpy as np\n",
    "%matplotlib inline\n",
    "import matplotlib.pyplot as plt\n",
    "import matplotlib\n",
    "from sklearn.preprocessing import MinMaxScaler\n",
    "from keras.layers import LSTM, Dense, Dropout\n",
    "from sklearn.model_selection import TimeSeriesSplit\n",
    "from sklearn.metrics import mean_squared_error, r2_score\n",
    "import matplotlib. dates as mandates\n",
    "from sklearn import linear_model\n",
    "from keras.models import Sequential\n",
    "from keras.layers import Dense\n",
    "import keras.backend as K\n",
    "from keras.callbacks import EarlyStopping\n",
    "from keras.optimizers import Adam \n",
    "from keras.models import load_model\n",
    "from keras.layers import LSTM\n",
    "from keras.utils.vis_utils import plot_model"
   ]
  },
  {
   "cell_type": "code",
   "execution_count": 2,
   "metadata": {},
   "outputs": [
    {
     "data": {
      "text/html": [
       "<div>\n",
       "<style scoped>\n",
       "    .dataframe tbody tr th:only-of-type {\n",
       "        vertical-align: middle;\n",
       "    }\n",
       "\n",
       "    .dataframe tbody tr th {\n",
       "        vertical-align: top;\n",
       "    }\n",
       "\n",
       "    .dataframe thead th {\n",
       "        text-align: right;\n",
       "    }\n",
       "</style>\n",
       "<table border=\"1\" class=\"dataframe\">\n",
       "  <thead>\n",
       "    <tr style=\"text-align: right;\">\n",
       "      <th></th>\n",
       "      <th>Open</th>\n",
       "      <th>High</th>\n",
       "      <th>Low</th>\n",
       "      <th>Close</th>\n",
       "      <th>Adj Close</th>\n",
       "      <th>Volume</th>\n",
       "    </tr>\n",
       "    <tr>\n",
       "      <th>Date</th>\n",
       "      <th></th>\n",
       "      <th></th>\n",
       "      <th></th>\n",
       "      <th></th>\n",
       "      <th></th>\n",
       "      <th></th>\n",
       "    </tr>\n",
       "  </thead>\n",
       "  <tbody>\n",
       "    <tr>\n",
       "      <th>1986-03-13</th>\n",
       "      <td>0.088542</td>\n",
       "      <td>0.101563</td>\n",
       "      <td>0.088542</td>\n",
       "      <td>0.097222</td>\n",
       "      <td>0.061491</td>\n",
       "      <td>1031788800</td>\n",
       "    </tr>\n",
       "    <tr>\n",
       "      <th>1986-03-14</th>\n",
       "      <td>0.097222</td>\n",
       "      <td>0.102431</td>\n",
       "      <td>0.097222</td>\n",
       "      <td>0.100694</td>\n",
       "      <td>0.063687</td>\n",
       "      <td>308160000</td>\n",
       "    </tr>\n",
       "    <tr>\n",
       "      <th>1986-03-17</th>\n",
       "      <td>0.100694</td>\n",
       "      <td>0.103299</td>\n",
       "      <td>0.100694</td>\n",
       "      <td>0.102431</td>\n",
       "      <td>0.064785</td>\n",
       "      <td>133171200</td>\n",
       "    </tr>\n",
       "    <tr>\n",
       "      <th>1986-03-18</th>\n",
       "      <td>0.102431</td>\n",
       "      <td>0.103299</td>\n",
       "      <td>0.098958</td>\n",
       "      <td>0.099826</td>\n",
       "      <td>0.063138</td>\n",
       "      <td>67766400</td>\n",
       "    </tr>\n",
       "    <tr>\n",
       "      <th>1986-03-19</th>\n",
       "      <td>0.099826</td>\n",
       "      <td>0.100694</td>\n",
       "      <td>0.097222</td>\n",
       "      <td>0.098090</td>\n",
       "      <td>0.062040</td>\n",
       "      <td>47894400</td>\n",
       "    </tr>\n",
       "  </tbody>\n",
       "</table>\n",
       "</div>"
      ],
      "text/plain": [
       "                Open      High       Low     Close  Adj Close      Volume\n",
       "Date                                                                     \n",
       "1986-03-13  0.088542  0.101563  0.088542  0.097222   0.061491  1031788800\n",
       "1986-03-14  0.097222  0.102431  0.097222  0.100694   0.063687   308160000\n",
       "1986-03-17  0.100694  0.103299  0.100694  0.102431   0.064785   133171200\n",
       "1986-03-18  0.102431  0.103299  0.098958  0.099826   0.063138    67766400\n",
       "1986-03-19  0.099826  0.100694  0.097222  0.098090   0.062040    47894400"
      ]
     },
     "execution_count": 2,
     "metadata": {},
     "output_type": "execute_result"
    }
   ],
   "source": [
    "#read data\n",
    "df=pd.read_csv('Data/MSFT.csv',na_values=['null'], index_col='Date', parse_dates=True, infer_datetime_format=True)\n",
    "df.head()"
   ]
  },
  {
   "cell_type": "markdown",
   "metadata": {},
   "source": [
    "## EDA"
   ]
  },
  {
   "cell_type": "code",
   "execution_count": 3,
   "metadata": {},
   "outputs": [
    {
     "data": {
      "text/html": [
       "<div>\n",
       "<style scoped>\n",
       "    .dataframe tbody tr th:only-of-type {\n",
       "        vertical-align: middle;\n",
       "    }\n",
       "\n",
       "    .dataframe tbody tr th {\n",
       "        vertical-align: top;\n",
       "    }\n",
       "\n",
       "    .dataframe thead th {\n",
       "        text-align: right;\n",
       "    }\n",
       "</style>\n",
       "<table border=\"1\" class=\"dataframe\">\n",
       "  <thead>\n",
       "    <tr style=\"text-align: right;\">\n",
       "      <th></th>\n",
       "      <th>Open</th>\n",
       "      <th>High</th>\n",
       "      <th>Low</th>\n",
       "      <th>Close</th>\n",
       "      <th>Adj Close</th>\n",
       "      <th>Volume</th>\n",
       "    </tr>\n",
       "    <tr>\n",
       "      <th>Date</th>\n",
       "      <th></th>\n",
       "      <th></th>\n",
       "      <th></th>\n",
       "      <th></th>\n",
       "      <th></th>\n",
       "      <th></th>\n",
       "    </tr>\n",
       "  </thead>\n",
       "  <tbody>\n",
       "    <tr>\n",
       "      <th>1986-03-13</th>\n",
       "      <td>False</td>\n",
       "      <td>False</td>\n",
       "      <td>False</td>\n",
       "      <td>False</td>\n",
       "      <td>False</td>\n",
       "      <td>False</td>\n",
       "    </tr>\n",
       "    <tr>\n",
       "      <th>1986-03-14</th>\n",
       "      <td>False</td>\n",
       "      <td>False</td>\n",
       "      <td>False</td>\n",
       "      <td>False</td>\n",
       "      <td>False</td>\n",
       "      <td>False</td>\n",
       "    </tr>\n",
       "    <tr>\n",
       "      <th>1986-03-17</th>\n",
       "      <td>False</td>\n",
       "      <td>False</td>\n",
       "      <td>False</td>\n",
       "      <td>False</td>\n",
       "      <td>False</td>\n",
       "      <td>False</td>\n",
       "    </tr>\n",
       "    <tr>\n",
       "      <th>1986-03-18</th>\n",
       "      <td>False</td>\n",
       "      <td>False</td>\n",
       "      <td>False</td>\n",
       "      <td>False</td>\n",
       "      <td>False</td>\n",
       "      <td>False</td>\n",
       "    </tr>\n",
       "    <tr>\n",
       "      <th>1986-03-19</th>\n",
       "      <td>False</td>\n",
       "      <td>False</td>\n",
       "      <td>False</td>\n",
       "      <td>False</td>\n",
       "      <td>False</td>\n",
       "      <td>False</td>\n",
       "    </tr>\n",
       "    <tr>\n",
       "      <th>...</th>\n",
       "      <td>...</td>\n",
       "      <td>...</td>\n",
       "      <td>...</td>\n",
       "      <td>...</td>\n",
       "      <td>...</td>\n",
       "      <td>...</td>\n",
       "    </tr>\n",
       "    <tr>\n",
       "      <th>2021-09-13</th>\n",
       "      <td>False</td>\n",
       "      <td>False</td>\n",
       "      <td>False</td>\n",
       "      <td>False</td>\n",
       "      <td>False</td>\n",
       "      <td>False</td>\n",
       "    </tr>\n",
       "    <tr>\n",
       "      <th>2021-09-14</th>\n",
       "      <td>False</td>\n",
       "      <td>False</td>\n",
       "      <td>False</td>\n",
       "      <td>False</td>\n",
       "      <td>False</td>\n",
       "      <td>False</td>\n",
       "    </tr>\n",
       "    <tr>\n",
       "      <th>2021-09-15</th>\n",
       "      <td>False</td>\n",
       "      <td>False</td>\n",
       "      <td>False</td>\n",
       "      <td>False</td>\n",
       "      <td>False</td>\n",
       "      <td>False</td>\n",
       "    </tr>\n",
       "    <tr>\n",
       "      <th>2021-09-16</th>\n",
       "      <td>False</td>\n",
       "      <td>False</td>\n",
       "      <td>False</td>\n",
       "      <td>False</td>\n",
       "      <td>False</td>\n",
       "      <td>False</td>\n",
       "    </tr>\n",
       "    <tr>\n",
       "      <th>2021-09-17</th>\n",
       "      <td>False</td>\n",
       "      <td>False</td>\n",
       "      <td>False</td>\n",
       "      <td>False</td>\n",
       "      <td>False</td>\n",
       "      <td>False</td>\n",
       "    </tr>\n",
       "  </tbody>\n",
       "</table>\n",
       "<p>8953 rows × 6 columns</p>\n",
       "</div>"
      ],
      "text/plain": [
       "             Open   High    Low  Close  Adj Close  Volume\n",
       "Date                                                     \n",
       "1986-03-13  False  False  False  False      False   False\n",
       "1986-03-14  False  False  False  False      False   False\n",
       "1986-03-17  False  False  False  False      False   False\n",
       "1986-03-18  False  False  False  False      False   False\n",
       "1986-03-19  False  False  False  False      False   False\n",
       "...           ...    ...    ...    ...        ...     ...\n",
       "2021-09-13  False  False  False  False      False   False\n",
       "2021-09-14  False  False  False  False      False   False\n",
       "2021-09-15  False  False  False  False      False   False\n",
       "2021-09-16  False  False  False  False      False   False\n",
       "2021-09-17  False  False  False  False      False   False\n",
       "\n",
       "[8953 rows x 6 columns]"
      ]
     },
     "execution_count": 3,
     "metadata": {},
     "output_type": "execute_result"
    }
   ],
   "source": [
    "df.isnull()"
   ]
  },
  {
   "cell_type": "code",
   "execution_count": 4,
   "metadata": {},
   "outputs": [
    {
     "name": "stdout",
     "output_type": "stream",
     "text": [
      "Dataframe Shape: (8953, 6)\n"
     ]
    }
   ],
   "source": [
    "#Print the shape of Dataframe  and Check for Null Values\n",
    "print(\"Dataframe Shape:\", df.shape)\n"
   ]
  },
  {
   "cell_type": "code",
   "execution_count": 5,
   "metadata": {},
   "outputs": [
    {
     "name": "stdout",
     "output_type": "stream",
     "text": [
      "Null Value Present: False\n"
     ]
    }
   ],
   "source": [
    "print(\"Null Value Present:\", df.isnull().values.any())"
   ]
  },
  {
   "cell_type": "markdown",
   "metadata": {},
   "source": [
    "## Plot of the True Adjusted Close Value"
   ]
  },
  {
   "cell_type": "markdown",
   "metadata": {},
   "source": [
    "The Adjusted Close Value is the final output value that will be forecasted using the Machine Learning model. This figure indicates the stock’s closing price on that particular day of stock market trading."
   ]
  },
  {
   "cell_type": "code",
   "execution_count": 6,
   "metadata": {},
   "outputs": [
    {
     "data": {
      "text/plain": [
       "<AxesSubplot:xlabel='Date'>"
      ]
     },
     "execution_count": 6,
     "metadata": {},
     "output_type": "execute_result"
    },
    {
     "data": {
      "image/png": "[encoded data removed]",
      "text/plain": [
       "<Figure size 432x288 with 1 Axes>"
      ]
     },
     "metadata": {
      "needs_background": "light"
     },
     "output_type": "display_data"
    }
   ],
   "source": [
    "#Plot the True Adj Close Value\n",
    "df['Adj Close'].plot()"
   ]
  },
  {
   "cell_type": "markdown",
   "metadata": {},
   "source": [
    "Setting the Target Variable and Selecting the Features"
   ]
  },
  {
   "cell_type": "code",
   "execution_count": 7,
   "metadata": {},
   "outputs": [],
   "source": [
    "#Set Target Variable\n",
    "output_var = pd.DataFrame(df['Adj Close'])\n",
    "#Selecting the Features\n",
    "features = ['Open', 'High', 'Low', 'Volume']"
   ]
  },
  {
   "cell_type": "markdown",
   "metadata": {},
   "source": [
    "#scaling\n",
    "\n",
    "To decrease the computational cost of the data in the table, we will scale the stock values to values between 0 and 1. As a result, all of the data in large numbers is reduced, and therefore memory consumption is decreased. Also, because the data is not spread out in huge values, we can achieve greater precision by scaling down. To perform this we will be using the MinMaxScaler class of the sci-kit-learn library."
   ]
  },
  {
   "cell_type": "code",
   "execution_count": 8,
   "metadata": {},
   "outputs": [
    {
     "data": {
      "text/html": [
       "<div>\n",
       "<style scoped>\n",
       "    .dataframe tbody tr th:only-of-type {\n",
       "        vertical-align: middle;\n",
       "    }\n",
       "\n",
       "    .dataframe tbody tr th {\n",
       "        vertical-align: top;\n",
       "    }\n",
       "\n",
       "    .dataframe thead th {\n",
       "        text-align: right;\n",
       "    }\n",
       "</style>\n",
       "<table border=\"1\" class=\"dataframe\">\n",
       "  <thead>\n",
       "    <tr style=\"text-align: right;\">\n",
       "      <th></th>\n",
       "      <th>Open</th>\n",
       "      <th>High</th>\n",
       "      <th>Low</th>\n",
       "      <th>Volume</th>\n",
       "    </tr>\n",
       "    <tr>\n",
       "      <th>Date</th>\n",
       "      <th></th>\n",
       "      <th></th>\n",
       "      <th></th>\n",
       "      <th></th>\n",
       "    </tr>\n",
       "  </thead>\n",
       "  <tbody>\n",
       "    <tr>\n",
       "      <th>1986-03-13</th>\n",
       "      <td>0.000000</td>\n",
       "      <td>0.000031</td>\n",
       "      <td>0.000000</td>\n",
       "      <td>1.000000</td>\n",
       "    </tr>\n",
       "    <tr>\n",
       "      <th>1986-03-14</th>\n",
       "      <td>0.000028</td>\n",
       "      <td>0.000034</td>\n",
       "      <td>0.000029</td>\n",
       "      <td>0.297096</td>\n",
       "    </tr>\n",
       "    <tr>\n",
       "      <th>1986-03-17</th>\n",
       "      <td>0.000040</td>\n",
       "      <td>0.000037</td>\n",
       "      <td>0.000040</td>\n",
       "      <td>0.127119</td>\n",
       "    </tr>\n",
       "    <tr>\n",
       "      <th>1986-03-18</th>\n",
       "      <td>0.000046</td>\n",
       "      <td>0.000037</td>\n",
       "      <td>0.000035</td>\n",
       "      <td>0.063588</td>\n",
       "    </tr>\n",
       "    <tr>\n",
       "      <th>1986-03-19</th>\n",
       "      <td>0.000037</td>\n",
       "      <td>0.000028</td>\n",
       "      <td>0.000029</td>\n",
       "      <td>0.044285</td>\n",
       "    </tr>\n",
       "  </tbody>\n",
       "</table>\n",
       "</div>"
      ],
      "text/plain": [
       "                Open      High       Low    Volume\n",
       "Date                                              \n",
       "1986-03-13  0.000000  0.000031  0.000000  1.000000\n",
       "1986-03-14  0.000028  0.000034  0.000029  0.297096\n",
       "1986-03-17  0.000040  0.000037  0.000040  0.127119\n",
       "1986-03-18  0.000046  0.000037  0.000035  0.063588\n",
       "1986-03-19  0.000037  0.000028  0.000029  0.044285"
      ]
     },
     "execution_count": 8,
     "metadata": {},
     "output_type": "execute_result"
    }
   ],
   "source": [
    "#Scaling\n",
    "scaler = MinMaxScaler()\n",
    "feature_transform = scaler.fit_transform(df[features])\n",
    "feature_transform= pd.DataFrame(columns=features, data=feature_transform, index=df.index)\n",
    "feature_transform.head()"
   ]
  },
  {
   "cell_type": "code",
   "execution_count": 9,
   "metadata": {},
   "outputs": [],
   "source": [
    "#Creating a Training Set and a Test Set for Stock Market Prediction"
   ]
  },
  {
   "cell_type": "markdown",
   "metadata": {},
   "source": [
    "The Machine Learning LSTM model will be trained on the data in the training set and tested for accuracy and backpropagation on the test set."
   ]
  },
  {
   "cell_type": "code",
   "execution_count": 10,
   "metadata": {},
   "outputs": [],
   "source": [
    "#Splitting to Training set and Test set\n",
    "timesplit= TimeSeriesSplit(n_splits=10)\n",
    "for train_index, test_index in timesplit.split(feature_transform):\n",
    "        X_train, X_test = feature_transform[:len(train_index)], feature_transform[len(train_index): (len(train_index)+len(test_index))]\n",
    "        y_train, y_test = output_var[:len(train_index)].values.ravel(), output_var[len(train_index): (len(train_index)+len(test_index))].values.ravel()"
   ]
  },
  {
   "cell_type": "code",
   "execution_count": 11,
   "metadata": {},
   "outputs": [],
   "source": [
    "#Process the data for LSTM\n",
    "trainX =np.array(X_train)\n",
    "testX =np.array(X_test)\n",
    "X_train = trainX.reshape(X_train.shape[0], 1, X_train.shape[1])\n",
    "X_test = testX.reshape(X_test.shape[0], 1, X_test.shape[1])"
   ]
  },
  {
   "cell_type": "markdown",
   "metadata": {},
   "source": [
    "## Building the LSTM Model for Stock Market Prediction"
   ]
  },
  {
   "cell_type": "markdown",
   "metadata": {},
   "source": [
    "In this step, we’ll build a Sequential Keras model with one LSTM layer. The LSTM layer has 32 units and is followed by one Dense Layer of one neuron."
   ]
  },
  {
   "cell_type": "code",
   "execution_count": 12,
   "metadata": {},
   "outputs": [
    {
     "data": {
      "image/png": "[encoded data removed]",
      "text/plain": [
       "<IPython.core.display.Image object>"
      ]
     },
     "execution_count": 12,
     "metadata": {},
     "output_type": "execute_result"
    }
   ],
   "source": [
    "#Building the LSTM Model\n",
    "\n",
    "lstm = Sequential()\n",
    "lstm.add(LSTM(32, input_shape=(1, trainX.shape[1]), activation='relu', return_sequences=False))\n",
    "lstm.add(Dense(1))\n",
    "lstm.compile(loss='mean_squared_error', optimizer='adam')\n",
    "plot_model(lstm, show_shapes=True, show_layer_names=True)"
   ]
  },
  {
   "cell_type": "code",
   "execution_count": 13,
   "metadata": {},
   "outputs": [
    {
     "name": "stdout",
     "output_type": "stream",
     "text": [
      "Epoch 1/100\n",
      "1018/1018 [==============================] - 6s 3ms/step - loss: 20.8536\n",
      "Epoch 2/100\n",
      "1018/1018 [==============================] - 2s 2ms/step - loss: 323.2813\n",
      "Epoch 3/100\n",
      "1018/1018 [==============================] - 2s 2ms/step - loss: 212.0999\n",
      "Epoch 4/100\n",
      "1018/1018 [==============================] - 2s 2ms/step - loss: 123.9998\n",
      "Epoch 5/100\n",
      "1018/1018 [==============================] - 2s 2ms/step - loss: 66.1812\n",
      "Epoch 6/100\n",
      "1018/1018 [==============================] - 2s 2ms/step - loss: 27.6136\n",
      "Epoch 7/100\n",
      "1018/1018 [==============================] - 2s 2ms/step - loss: 9.5505\n",
      "Epoch 8/100\n",
      "1018/1018 [==============================] - 2s 2ms/step - loss: 3.9265\n",
      "Epoch 9/100\n",
      "1018/1018 [==============================] - 2s 2ms/step - loss: 2.2148\n",
      "Epoch 10/100\n",
      "1018/1018 [==============================] - 2s 2ms/step - loss: 1.5088\n",
      "Epoch 11/100\n",
      "1018/1018 [==============================] - 2s 2ms/step - loss: 1.1586\n",
      "Epoch 12/100\n",
      "1018/1018 [==============================] - 2s 2ms/step - loss: 0.9821\n",
      "Epoch 13/100\n",
      "1018/1018 [==============================] - 2s 2ms/step - loss: 0.8966\n",
      "Epoch 14/100\n",
      "1018/1018 [==============================] - 2s 2ms/step - loss: 0.8561\n",
      "Epoch 15/100\n",
      "1018/1018 [==============================] - 2s 2ms/step - loss: 0.8368\n",
      "Epoch 16/100\n",
      "1018/1018 [==============================] - 2s 2ms/step - loss: 0.8274\n",
      "Epoch 17/100\n",
      "1018/1018 [==============================] - 2s 2ms/step - loss: 0.8229\n",
      "Epoch 18/100\n",
      "1018/1018 [==============================] - 2s 2ms/step - loss: 0.8207\n",
      "Epoch 19/100\n",
      "1018/1018 [==============================] - 2s 2ms/step - loss: 0.8197\n",
      "Epoch 20/100\n",
      "1018/1018 [==============================] - 2s 2ms/step - loss: 0.8193\n",
      "Epoch 21/100\n",
      "1018/1018 [==============================] - 2s 2ms/step - loss: 0.8190\n",
      "Epoch 22/100\n",
      "1018/1018 [==============================] - 2s 2ms/step - loss: 0.8189\n",
      "Epoch 23/100\n",
      "1018/1018 [==============================] - 2s 2ms/step - loss: 0.8188\n",
      "Epoch 24/100\n",
      "1018/1018 [==============================] - 2s 2ms/step - loss: 0.8187\n",
      "Epoch 25/100\n",
      "1018/1018 [==============================] - 2s 2ms/step - loss: 0.8185\n",
      "Epoch 26/100\n",
      "1018/1018 [==============================] - 2s 2ms/step - loss: 0.8184\n",
      "Epoch 27/100\n",
      "1018/1018 [==============================] - 2s 2ms/step - loss: 0.8183\n",
      "Epoch 28/100\n",
      "1018/1018 [==============================] - 2s 2ms/step - loss: 0.8181\n",
      "Epoch 29/100\n",
      "1018/1018 [==============================] - 2s 2ms/step - loss: 0.8180\n",
      "Epoch 30/100\n",
      "1018/1018 [==============================] - 2s 2ms/step - loss: 0.8179\n",
      "Epoch 31/100\n",
      "1018/1018 [==============================] - 2s 2ms/step - loss: 0.8177\n",
      "Epoch 32/100\n",
      "1018/1018 [==============================] - 2s 2ms/step - loss: 0.8176\n",
      "Epoch 33/100\n",
      "1018/1018 [==============================] - 2s 2ms/step - loss: 0.8174\n",
      "Epoch 34/100\n",
      "1018/1018 [==============================] - 2s 2ms/step - loss: 0.8173\n",
      "Epoch 35/100\n",
      "1018/1018 [==============================] - 2s 2ms/step - loss: 0.8171\n",
      "Epoch 36/100\n",
      "1018/1018 [==============================] - 2s 2ms/step - loss: 0.8170\n",
      "Epoch 37/100\n",
      "1018/1018 [==============================] - 2s 2ms/step - loss: 0.8169\n",
      "Epoch 38/100\n",
      "1018/1018 [==============================] - 2s 2ms/step - loss: 0.8167\n",
      "Epoch 39/100\n",
      "1018/1018 [==============================] - 2s 2ms/step - loss: 0.8166\n",
      "Epoch 40/100\n",
      "1018/1018 [==============================] - 2s 2ms/step - loss: 0.8165\n",
      "Epoch 41/100\n",
      "1018/1018 [==============================] - 2s 2ms/step - loss: 0.8163\n",
      "Epoch 42/100\n",
      "1018/1018 [==============================] - 2s 2ms/step - loss: 0.8162\n",
      "Epoch 43/100\n",
      "1018/1018 [==============================] - 2s 2ms/step - loss: 0.8161\n",
      "Epoch 44/100\n",
      "1018/1018 [==============================] - 2s 2ms/step - loss: 0.8160\n",
      "Epoch 45/100\n",
      "1018/1018 [==============================] - 2s 2ms/step - loss: 0.8158\n",
      "Epoch 46/100\n",
      "1018/1018 [==============================] - 2s 2ms/step - loss: 0.8157\n",
      "Epoch 47/100\n",
      "1018/1018 [==============================] - 2s 2ms/step - loss: 0.8156\n",
      "Epoch 48/100\n",
      "1018/1018 [==============================] - 2s 2ms/step - loss: 0.8154\n",
      "Epoch 49/100\n",
      "1018/1018 [==============================] - 2s 2ms/step - loss: 0.8153\n",
      "Epoch 50/100\n",
      "1018/1018 [==============================] - 2s 2ms/step - loss: 0.8151\n",
      "Epoch 51/100\n",
      "1018/1018 [==============================] - 2s 2ms/step - loss: 0.8150\n",
      "Epoch 52/100\n",
      "1018/1018 [==============================] - 2s 2ms/step - loss: 0.8149\n",
      "Epoch 53/100\n",
      "1018/1018 [==============================] - 2s 2ms/step - loss: 0.8147\n",
      "Epoch 54/100\n",
      "1018/1018 [==============================] - 2s 2ms/step - loss: 0.8146\n",
      "Epoch 55/100\n",
      "1018/1018 [==============================] - 2s 2ms/step - loss: 0.8145\n",
      "Epoch 56/100\n",
      "1018/1018 [==============================] - 2s 2ms/step - loss: 0.8143\n",
      "Epoch 57/100\n",
      "1018/1018 [==============================] - 2s 2ms/step - loss: 0.8142\n",
      "Epoch 58/100\n",
      "1018/1018 [==============================] - 2s 2ms/step - loss: 0.8140\n",
      "Epoch 59/100\n",
      "1018/1018 [==============================] - 2s 2ms/step - loss: 0.8139\n",
      "Epoch 60/100\n",
      "1018/1018 [==============================] - 2s 2ms/step - loss: 0.8137\n",
      "Epoch 61/100\n",
      "1018/1018 [==============================] - 2s 2ms/step - loss: 0.8136\n",
      "Epoch 62/100\n",
      "1018/1018 [==============================] - 2s 2ms/step - loss: 0.8134\n",
      "Epoch 63/100\n",
      "1018/1018 [==============================] - 2s 2ms/step - loss: 0.8133\n",
      "Epoch 64/100\n",
      "1018/1018 [==============================] - 2s 2ms/step - loss: 0.8131\n",
      "Epoch 65/100\n",
      "1018/1018 [==============================] - 2s 2ms/step - loss: 0.8130\n",
      "Epoch 66/100\n",
      "1018/1018 [==============================] - 2s 2ms/step - loss: 0.8128\n",
      "Epoch 67/100\n",
      "1018/1018 [==============================] - 2s 2ms/step - loss: 0.8127\n",
      "Epoch 68/100\n",
      "1018/1018 [==============================] - 2s 2ms/step - loss: 0.8125\n",
      "Epoch 69/100\n",
      "1018/1018 [==============================] - 2s 2ms/step - loss: 0.8124\n",
      "Epoch 70/100\n",
      "1018/1018 [==============================] - 2s 2ms/step - loss: 0.8122A: 0s - loss: 0\n",
      "Epoch 71/100\n",
      "1018/1018 [==============================] - 2s 2ms/step - loss: 0.8121\n",
      "Epoch 72/100\n",
      "1018/1018 [==============================] - 2s 2ms/step - loss: 0.8119\n",
      "Epoch 73/100\n",
      "1018/1018 [==============================] - 2s 2ms/step - loss: 0.8117\n",
      "Epoch 74/100\n",
      "1018/1018 [==============================] - 2s 2ms/step - loss: 0.8116\n",
      "Epoch 75/100\n",
      "1018/1018 [==============================] - 2s 2ms/step - loss: 0.8114\n",
      "Epoch 76/100\n",
      "1018/1018 [==============================] - 2s 2ms/step - loss: 0.8112\n",
      "Epoch 77/100\n",
      "1018/1018 [==============================] - 2s 2ms/step - loss: 0.8111\n",
      "Epoch 78/100\n",
      "1018/1018 [==============================] - 2s 2ms/step - loss: 0.8109\n",
      "Epoch 79/100\n",
      "1018/1018 [==============================] - 2s 2ms/step - loss: 0.8107\n",
      "Epoch 80/100\n",
      "1018/1018 [==============================] - 2s 2ms/step - loss: 0.8106\n",
      "Epoch 81/100\n",
      "1018/1018 [==============================] - 2s 2ms/step - loss: 0.8104\n",
      "Epoch 82/100\n",
      "1018/1018 [==============================] - 2s 2ms/step - loss: 0.8102\n",
      "Epoch 83/100\n",
      "1018/1018 [==============================] - 2s 2ms/step - loss: 0.8101\n",
      "Epoch 84/100\n",
      "1018/1018 [==============================] - 2s 2ms/step - loss: 0.8099\n",
      "Epoch 85/100\n",
      "1018/1018 [==============================] - 2s 2ms/step - loss: 0.8097\n",
      "Epoch 86/100\n",
      "1018/1018 [==============================] - 2s 2ms/step - loss: 0.8095\n",
      "Epoch 87/100\n",
      "1018/1018 [==============================] - 2s 2ms/step - loss: 0.8094\n",
      "Epoch 88/100\n",
      "1018/1018 [==============================] - 2s 2ms/step - loss: 0.8092\n",
      "Epoch 89/100\n",
      "1018/1018 [==============================] - 2s 2ms/step - loss: 0.8090\n",
      "Epoch 90/100\n",
      "1018/1018 [==============================] - 2s 2ms/step - loss: 0.8088\n",
      "Epoch 91/100\n",
      "1018/1018 [==============================] - 2s 2ms/step - loss: 0.8087\n",
      "Epoch 92/100\n",
      "1018/1018 [==============================] - 2s 2ms/step - loss: 0.8085\n",
      "Epoch 93/100\n",
      "1018/1018 [==============================] - 2s 2ms/step - loss: 0.8083\n",
      "Epoch 94/100\n",
      "1018/1018 [==============================] - 2s 2ms/step - loss: 0.8081\n",
      "Epoch 95/100\n",
      "1018/1018 [==============================] - 2s 2ms/step - loss: 0.8080\n",
      "Epoch 96/100\n",
      "1018/1018 [==============================] - 2s 2ms/step - loss: 0.8078\n",
      "Epoch 97/100\n"
     ]
    },
    {
     "name": "stdout",
     "output_type": "stream",
     "text": [
      "1018/1018 [==============================] - 2s 2ms/step - loss: 0.8076\n",
      "Epoch 98/100\n",
      "1018/1018 [==============================] - 2s 2ms/step - loss: 0.8074\n",
      "Epoch 99/100\n",
      "1018/1018 [==============================] - 2s 2ms/step - loss: 0.8073\n",
      "Epoch 100/100\n",
      "1018/1018 [==============================] - 2s 2ms/step - loss: 0.8071\n"
     ]
    }
   ],
   "source": [
    "#Model Training\n",
    "history=lstm.fit(X_train, y_train, epochs=100, batch_size=8, verbose=1, shuffle=False)"
   ]
  },
  {
   "cell_type": "code",
   "execution_count": 14,
   "metadata": {},
   "outputs": [],
   "source": [
    "#LSTM Prediction\n",
    "y_pred= lstm.predict(X_test)"
   ]
  },
  {
   "cell_type": "code",
   "execution_count": 15,
   "metadata": {},
   "outputs": [
    {
     "data": {
      "image/png": "[encoded data removed]",
      "text/plain": [
       "<Figure size 432x288 with 1 Axes>"
      ]
     },
     "metadata": {
      "needs_background": "light"
     },
     "output_type": "display_data"
    }
   ],
   "source": [
    "#Predicted vs True Adj Close Value – LSTM\n",
    "plt.plot(y_test, label='True Value')\n",
    "plt.plot(y_pred, label='LSTM Value')\n",
    "plt.title(\"Prediction by LSTM\")\n",
    "plt.xlabel('Time Scale')\n",
    "plt.ylabel('Scaled USD')\n",
    "plt.legend()\n",
    "plt.show()"
   ]
  },
  {
   "cell_type": "code",
   "execution_count": null,
   "metadata": {},
   "outputs": [],
   "source": []
  },
  {
   "cell_type": "code",
   "execution_count": null,
   "metadata": {},
   "outputs": [],
   "source": []
  }
 ],
 "metadata": {
  "kernelspec": {
   "display_name": "Python 3",
   "language": "python",
   "name": "python3"
  },
  "language_info": {
   "codemirror_mode": {
    "name": "ipython",
    "version": 3
   },
   "file_extension": ".py",
   "mimetype": "text/x-python",
   "name": "python",
   "nbconvert_exporter": "python",
   "pygments_lexer": "ipython3",
   "version": "3.7.6"
  }
 },
 "nbformat": 4,
 "nbformat_minor": 4
}
