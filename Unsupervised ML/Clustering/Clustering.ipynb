{
 "cells": [
  {
   "cell_type": "markdown",
   "metadata": {},
   "source": [
    "### Clustering"
   ]
  },
  {
   "cell_type": "markdown",
   "metadata": {},
   "source": [
    "Clustering is a Machine Learning technique that involves the grouping of data points. ... In theory, data points that are in the same group should have similar properties and/or features, while data points in different groups should have highly dissimilar properties and/or features"
   ]
  },
  {
   "cell_type": "markdown",
   "metadata": {},
   "source": [
    "Clustering Methods :\n",
    "\n",
    "Density-Based Methods : These methods consider the clusters as the dense region having some similarity and different from the lower dense region of the space. These methods have good accuracy and ability to merge two clusters.Example DBSCAN (Density-Based Spatial Clustering of Applications with Noise) , OPTICS (Ordering Points to Identify Clustering Structure) etc.\n",
    "\n",
    "Hierarchical Based Methods : The clusters formed in this method forms a tree-type structure based on the hierarchy. New clusters are formed using the previously formed one. It is divided into two category Agglomerative (bottom up approach) Divisive (top down approach) examples CURE (Clustering Using Representatives), BIRCH (Balanced Iterative Reducing Clustering and using Hierarchies) etc.\n",
    "\n",
    "Partitioning Methods : These methods partition the objects into k clusters and each partition forms one cluster. This method is used to optimize an objective criterion similarity function such as when the distance is a major parameter example K-means, CLARANS (Clustering Large Applications based upon Randomized Search) etc.\n",
    "\n",
    "Grid-based Methods : In this method the data space is formulated into a finite number of cells that form a grid-like structure. All the clustering operation done on these grids are fast and independent of the number of data objects example STING (Statistical Information Grid), wave cluster, CLIQUE (CLustering In Quest) etc."
   ]
  },
  {
   "cell_type": "markdown",
   "metadata": {},
   "source": [
    "Read more\n",
    "https://towardsdatascience.com/the-5-clustering-algorithms-data-scientists-need-to-know-a36d136ef68#:~:text=Clustering%20is%20a%20Machine%20Learning,the%20grouping%20of%20data%20points.&text=In%20theory%2C%20data%20points%20that,dissimilar%20properties%20and%2For%20features.\n",
    "\n",
    "https://machinelearningmastery.com/clustering-algorithms-with-python/"
   ]
  },
  {
   "cell_type": "markdown",
   "metadata": {},
   "source": [
    "Applications of Clustering\n",
    "\n",
    "\n",
    "Recommendation engines\n",
    "\n",
    "Market segmentation\n",
    "\n",
    "Social network analysis\n",
    "\n",
    "Search result grouping\n",
    "\n",
    "Medical imaging\n",
    "\n",
    "Image segmentation\n",
    "\n",
    "Anomaly detection"
   ]
  },
  {
   "cell_type": "markdown",
   "metadata": {},
   "source": [
    "## Task"
   ]
  },
  {
   "cell_type": "markdown",
   "metadata": {},
   "source": [
    "Segment Countries into their respective Continents Unsupervised ML https://developers.google.com/public-data/docs/canonical/countries_csv"
   ]
  },
  {
   "cell_type": "code",
   "execution_count": 4,
   "metadata": {},
   "outputs": [],
   "source": [
    "import pandas as pd\n",
    "import matplotlib.pyplot as plt\n",
    "import seaborn as sns\n",
    "%matplotlib inline"
   ]
  },
  {
   "cell_type": "code",
   "execution_count": 7,
   "metadata": {},
   "outputs": [
    {
     "data": {
      "text/html": [
       "<div>\n",
       "<style scoped>\n",
       "    .dataframe tbody tr th:only-of-type {\n",
       "        vertical-align: middle;\n",
       "    }\n",
       "\n",
       "    .dataframe tbody tr th {\n",
       "        vertical-align: top;\n",
       "    }\n",
       "\n",
       "    .dataframe thead th {\n",
       "        text-align: right;\n",
       "    }\n",
       "</style>\n",
       "<table border=\"1\" class=\"dataframe\">\n",
       "  <thead>\n",
       "    <tr style=\"text-align: right;\">\n",
       "      <th></th>\n",
       "      <th>country</th>\n",
       "      <th>latitude</th>\n",
       "      <th>longitude</th>\n",
       "      <th>name</th>\n",
       "    </tr>\n",
       "  </thead>\n",
       "  <tbody>\n",
       "    <tr>\n",
       "      <th>0</th>\n",
       "      <td>AD</td>\n",
       "      <td>42.546245</td>\n",
       "      <td>1.601554</td>\n",
       "      <td>Andorra</td>\n",
       "    </tr>\n",
       "    <tr>\n",
       "      <th>1</th>\n",
       "      <td>AE</td>\n",
       "      <td>23.424076</td>\n",
       "      <td>53.847818</td>\n",
       "      <td>United Arab Emirates</td>\n",
       "    </tr>\n",
       "    <tr>\n",
       "      <th>2</th>\n",
       "      <td>AF</td>\n",
       "      <td>33.939110</td>\n",
       "      <td>67.709953</td>\n",
       "      <td>Afghanistan</td>\n",
       "    </tr>\n",
       "    <tr>\n",
       "      <th>3</th>\n",
       "      <td>AG</td>\n",
       "      <td>17.060816</td>\n",
       "      <td>-61.796428</td>\n",
       "      <td>Antigua and Barbuda</td>\n",
       "    </tr>\n",
       "    <tr>\n",
       "      <th>4</th>\n",
       "      <td>AI</td>\n",
       "      <td>18.220554</td>\n",
       "      <td>-63.068615</td>\n",
       "      <td>Anguilla</td>\n",
       "    </tr>\n",
       "  </tbody>\n",
       "</table>\n",
       "</div>"
      ],
      "text/plain": [
       "  country   latitude  longitude                  name\n",
       "0      AD  42.546245   1.601554               Andorra\n",
       "1      AE  23.424076  53.847818  United Arab Emirates\n",
       "2      AF  33.939110  67.709953           Afghanistan\n",
       "3      AG  17.060816 -61.796428   Antigua and Barbuda\n",
       "4      AI  18.220554 -63.068615              Anguilla"
      ]
     },
     "execution_count": 7,
     "metadata": {},
     "output_type": "execute_result"
    }
   ],
   "source": [
    "df = pd.read_csv(\"Countries.csv\")\n",
    "df.drop(['Unnamed: 0','Unnamed: 0.1'],axis=1, inplace=True)\n",
    "df.head()"
   ]
  },
  {
   "cell_type": "code",
   "execution_count": 8,
   "metadata": {},
   "outputs": [
    {
     "data": {
      "text/plain": [
       "country       object\n",
       "latitude     float64\n",
       "longitude    float64\n",
       "name          object\n",
       "dtype: object"
      ]
     },
     "execution_count": 8,
     "metadata": {},
     "output_type": "execute_result"
    }
   ],
   "source": [
    "df.dtypes"
   ]
  },
  {
   "cell_type": "code",
   "execution_count": 9,
   "metadata": {},
   "outputs": [
    {
     "data": {
      "text/plain": [
       "country      1\n",
       "latitude     1\n",
       "longitude    1\n",
       "name         0\n",
       "dtype: int64"
      ]
     },
     "execution_count": 9,
     "metadata": {},
     "output_type": "execute_result"
    }
   ],
   "source": [
    "df.isnull().sum()"
   ]
  },
  {
   "cell_type": "code",
   "execution_count": 10,
   "metadata": {},
   "outputs": [],
   "source": [
    "df = df.dropna()"
   ]
  },
  {
   "cell_type": "code",
   "execution_count": 11,
   "metadata": {},
   "outputs": [
    {
     "data": {
      "text/plain": [
       "Index(['country', 'latitude', 'longitude', 'name'], dtype='object')"
      ]
     },
     "execution_count": 11,
     "metadata": {},
     "output_type": "execute_result"
    }
   ],
   "source": [
    "df.columns"
   ]
  },
  {
   "cell_type": "code",
   "execution_count": 13,
   "metadata": {},
   "outputs": [
    {
     "data": {
      "text/plain": [
       "<matplotlib.collections.PathCollection at 0x17f7efdd248>"
      ]
     },
     "execution_count": 13,
     "metadata": {},
     "output_type": "execute_result"
    },
    {
     "data": {
      "image/png": "[encoded data removed]",
      "text/plain": [
       "<Figure size 432x288 with 1 Axes>"
      ]
     },
     "metadata": {
      "needs_background": "light"
     },
     "output_type": "display_data"
    }
   ],
   "source": [
    "plt.scatter(df['longitude'],df['latitude'])"
   ]
  },
  {
   "cell_type": "code",
   "execution_count": 14,
   "metadata": {},
   "outputs": [],
   "source": [
    "from sklearn.cluster import KMeans"
   ]
  },
  {
   "cell_type": "code",
   "execution_count": 15,
   "metadata": {},
   "outputs": [],
   "source": [
    "#by assumption we have 7 continents\n",
    "#k =7\n",
    "km = KMeans(n_clusters=7)"
   ]
  },
  {
   "cell_type": "code",
   "execution_count": 17,
   "metadata": {},
   "outputs": [],
   "source": [
    "Xfeatures = df[['longitude','latitude']]"
   ]
  },
  {
   "cell_type": "code",
   "execution_count": 19,
   "metadata": {},
   "outputs": [],
   "source": [
    "clusters = km.fit_predict(Xfeatures)"
   ]
  },
  {
   "cell_type": "code",
   "execution_count": 20,
   "metadata": {},
   "outputs": [
    {
     "data": {
      "text/plain": [
       "array([3, 5, 5, 1, 1, 3, 5, 1, 4, 4, 1, 6, 3, 2, 1, 5, 3, 1, 0, 3, 3, 3,\n",
       "       5, 4, 3, 1, 0, 1, 1, 1, 0, 4, 4, 3, 1, 1, 0, 4, 4, 4, 3, 3, 6, 1,\n",
       "       4, 0, 1, 1, 1, 3, 0, 5, 3, 3, 5, 3, 1, 1, 3, 1, 3, 5, 3, 5, 3, 5,\n",
       "       3, 2, 1, 2, 3, 3, 4, 3, 1, 5, 1, 3, 3, 3, 3, 3, 3, 1, 4, 3, 1, 1,\n",
       "       2, 3, 1, 5, 0, 4, 1, 3, 1, 3, 0, 3, 5, 3, 0, 0, 5, 5, 3, 3, 3, 1,\n",
       "       5, 0, 4, 5, 0, 6, 4, 1, 0, 0, 5, 1, 5, 0, 5, 1, 3, 0, 3, 4, 3, 3,\n",
       "       3, 3, 3, 3, 3, 3, 4, 2, 3, 3, 0, 0, 0, 2, 1, 3, 1, 3, 4, 0, 4, 1,\n",
       "       0, 4, 2, 3, 2, 3, 1, 3, 3, 0, 2, 6, 2, 5, 1, 1, 6, 2, 0, 5, 3, 1,\n",
       "       6, 1, 5, 3, 2, 1, 5, 4, 3, 3, 0, 4, 5, 2, 4, 5, 3, 0, 4, 3, 3, 3,\n",
       "       3, 3, 3, 5, 1, 4, 1, 5, 4, 1, 3, 4, 3, 0, 5, 6, 2, 5, 3, 6, 5, 1,\n",
       "       2, 0, 4, 5, 4, 1, 1, 5, 3, 1, 1, 1, 1, 0, 2, 6, 6, 3, 5, 4, 4, 4,\n",
       "       4])"
      ]
     },
     "execution_count": 20,
     "metadata": {},
     "output_type": "execute_result"
    }
   ],
   "source": [
    "km.labels_"
   ]
  },
  {
   "cell_type": "code",
   "execution_count": 21,
   "metadata": {},
   "outputs": [
    {
     "data": {
      "text/plain": [
       "array([3, 5, 5, 1, 1, 3, 5, 1, 4, 4, 1, 6, 3, 2, 1, 5, 3, 1, 0, 3, 3, 3,\n",
       "       5, 4, 3, 1, 0, 1, 1, 1, 0, 4, 4, 3, 1, 1, 0, 4, 4, 4, 3, 3, 6, 1,\n",
       "       4, 0, 1, 1, 1, 3, 0, 5, 3, 3, 5, 3, 1, 1, 3, 1, 3, 5, 3, 5, 3, 5,\n",
       "       3, 2, 1, 2, 3, 3, 4, 3, 1, 5, 1, 3, 3, 3, 3, 3, 3, 1, 4, 3, 1, 1,\n",
       "       2, 3, 1, 5, 0, 4, 1, 3, 1, 3, 0, 3, 5, 3, 0, 0, 5, 5, 3, 3, 3, 1,\n",
       "       5, 0, 4, 5, 0, 6, 4, 1, 0, 0, 5, 1, 5, 0, 5, 1, 3, 0, 3, 4, 3, 3,\n",
       "       3, 3, 3, 3, 3, 3, 4, 2, 3, 3, 0, 0, 0, 2, 1, 3, 1, 3, 4, 0, 4, 1,\n",
       "       0, 4, 2, 3, 2, 3, 1, 3, 3, 0, 2, 6, 2, 5, 1, 1, 6, 2, 0, 5, 3, 1,\n",
       "       6, 1, 5, 3, 2, 1, 5, 4, 3, 3, 0, 4, 5, 2, 4, 5, 3, 0, 4, 3, 3, 3,\n",
       "       3, 3, 3, 5, 1, 4, 1, 5, 4, 1, 3, 4, 3, 0, 5, 6, 2, 5, 3, 6, 5, 1,\n",
       "       2, 0, 4, 5, 4, 1, 1, 5, 3, 1, 1, 1, 1, 0, 2, 6, 6, 3, 5, 4, 4, 4,\n",
       "       4])"
      ]
     },
     "execution_count": 21,
     "metadata": {},
     "output_type": "execute_result"
    }
   ],
   "source": [
    "clusters"
   ]
  },
  {
   "cell_type": "code",
   "execution_count": 22,
   "metadata": {},
   "outputs": [
    {
     "data": {
      "text/plain": [
       "True"
      ]
     },
     "execution_count": 22,
     "metadata": {},
     "output_type": "execute_result"
    }
   ],
   "source": [
    "clusters is km.labels_"
   ]
  },
  {
   "cell_type": "code",
   "execution_count": 23,
   "metadata": {},
   "outputs": [
    {
     "data": {
      "text/plain": [
       "array([[ 103.45510325,   18.34838525],\n",
       "       [ -69.68218541,    8.58624816],\n",
       "       [ 156.84523619,   -7.98094281],\n",
       "       [   6.27951931,   39.29820125],\n",
       "       [  29.90412153,  -16.55217197],\n",
       "       [  47.22305212,   30.08667756],\n",
       "       [-164.167216  ,  -15.7990057 ]])"
      ]
     },
     "execution_count": 23,
     "metadata": {},
     "output_type": "execute_result"
    }
   ],
   "source": [
    "km.cluster_centers_"
   ]
  },
  {
   "cell_type": "code",
   "execution_count": 24,
   "metadata": {},
   "outputs": [
    {
     "data": {
      "text/html": [
       "<div>\n",
       "<style scoped>\n",
       "    .dataframe tbody tr th:only-of-type {\n",
       "        vertical-align: middle;\n",
       "    }\n",
       "\n",
       "    .dataframe tbody tr th {\n",
       "        vertical-align: top;\n",
       "    }\n",
       "\n",
       "    .dataframe thead th {\n",
       "        text-align: right;\n",
       "    }\n",
       "</style>\n",
       "<table border=\"1\" class=\"dataframe\">\n",
       "  <thead>\n",
       "    <tr style=\"text-align: right;\">\n",
       "      <th></th>\n",
       "      <th>country</th>\n",
       "      <th>latitude</th>\n",
       "      <th>longitude</th>\n",
       "      <th>name</th>\n",
       "      <th>cluster_continents</th>\n",
       "    </tr>\n",
       "  </thead>\n",
       "  <tbody>\n",
       "    <tr>\n",
       "      <th>0</th>\n",
       "      <td>AD</td>\n",
       "      <td>42.546245</td>\n",
       "      <td>1.601554</td>\n",
       "      <td>Andorra</td>\n",
       "      <td>3</td>\n",
       "    </tr>\n",
       "    <tr>\n",
       "      <th>1</th>\n",
       "      <td>AE</td>\n",
       "      <td>23.424076</td>\n",
       "      <td>53.847818</td>\n",
       "      <td>United Arab Emirates</td>\n",
       "      <td>5</td>\n",
       "    </tr>\n",
       "    <tr>\n",
       "      <th>2</th>\n",
       "      <td>AF</td>\n",
       "      <td>33.939110</td>\n",
       "      <td>67.709953</td>\n",
       "      <td>Afghanistan</td>\n",
       "      <td>5</td>\n",
       "    </tr>\n",
       "    <tr>\n",
       "      <th>3</th>\n",
       "      <td>AG</td>\n",
       "      <td>17.060816</td>\n",
       "      <td>-61.796428</td>\n",
       "      <td>Antigua and Barbuda</td>\n",
       "      <td>1</td>\n",
       "    </tr>\n",
       "    <tr>\n",
       "      <th>4</th>\n",
       "      <td>AI</td>\n",
       "      <td>18.220554</td>\n",
       "      <td>-63.068615</td>\n",
       "      <td>Anguilla</td>\n",
       "      <td>1</td>\n",
       "    </tr>\n",
       "  </tbody>\n",
       "</table>\n",
       "</div>"
      ],
      "text/plain": [
       "  country   latitude  longitude                  name  cluster_continents\n",
       "0      AD  42.546245   1.601554               Andorra                   3\n",
       "1      AE  23.424076  53.847818  United Arab Emirates                   5\n",
       "2      AF  33.939110  67.709953           Afghanistan                   5\n",
       "3      AG  17.060816 -61.796428   Antigua and Barbuda                   1\n",
       "4      AI  18.220554 -63.068615              Anguilla                   1"
      ]
     },
     "execution_count": 24,
     "metadata": {},
     "output_type": "execute_result"
    }
   ],
   "source": [
    "# Store and Map\n",
    "df['cluster_continents'] = clusters\n",
    "df.head()"
   ]
  },
  {
   "cell_type": "code",
   "execution_count": null,
   "metadata": {},
   "outputs": [],
   "source": []
  }
 ],
 "metadata": {
  "kernelspec": {
   "display_name": "Python 3",
   "language": "python",
   "name": "python3"
  },
  "language_info": {
   "codemirror_mode": {
    "name": "ipython",
    "version": 3
   },
   "file_extension": ".py",
   "mimetype": "text/x-python",
   "name": "python",
   "nbconvert_exporter": "python",
   "pygments_lexer": "ipython3",
   "version": "3.7.6"
  }
 },
 "nbformat": 4,
 "nbformat_minor": 4
}
