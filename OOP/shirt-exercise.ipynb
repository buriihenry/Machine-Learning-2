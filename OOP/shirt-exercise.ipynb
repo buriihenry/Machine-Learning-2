{
 "cells": [
  {
   "cell_type": "markdown",
   "metadata": {},
   "source": [
    "# Use the Shirt Class\n",
    "\n",
    "You've seen what a class looks like and how to instantiate an object. Now it's your turn to write code that insantiates a shirt object.\n",
    "\n",
    "# Explanation of the Code\n",
    "This exercise using Jupyter notebook includes three files:\n",
    "- shirt_exercise.ipynb, which is the file you are currently looking at\n",
    "- answer.py containing answers to the exercise\n",
    "- tests.py, tests for checking your code - you can run these tests using the last code cell at the bottom of this notebook\n",
    "\n",
    "# Your Task\n",
    "The shirt_exercise.ipynb file, which you are currently looking at if you are reading this, has an exercise to help guide you through coding with an object in Python.\n",
    "\n",
    "Fill out the TODOs in each section of the Jupyter notebook. You can find a solution in the answer.py file.\n",
    "\n",
    "First, run this code cell below to load the Shirt class."
   ]
  },
  {
   "cell_type": "code",
   "execution_count": 1,
   "metadata": {},
   "outputs": [],
   "source": [
    "class Shirt:\n",
    "\n",
    "    def __init__(self, shirt_color, shirt_size, shirt_style, shirt_price):\n",
    "        self.color = shirt_color\n",
    "        self.size = shirt_size\n",
    "        self.style = shirt_style\n",
    "        self.price = shirt_price\n",
    "    \n",
    "    def change_price(self, new_price):\n",
    "    \n",
    "        self.price = new_price\n",
    "        \n",
    "    def discount(self, discount):\n",
    "\n",
    "        return self.price * (1 - discount)"
   ]
  },
  {
   "cell_type": "code",
   "execution_count": 2,
   "metadata": {},
   "outputs": [
    {
     "data": {
      "text/plain": [
       "<__main__.Shirt at 0x20e040d4a48>"
      ]
     },
     "execution_count": 2,
     "metadata": {},
     "output_type": "execute_result"
    }
   ],
   "source": [
    "### TODO:\n",
    "#    - insantiate a shirt object with the following characteristics:\n",
    "#        - color red, size S, style long-sleeve, and price 25\n",
    "#    - store the object in a variable called shirt_one\n",
    "\n",
    "Shirt ('red', 'S', 'long sleeve', 25)"
   ]
  },
  {
   "cell_type": "code",
   "execution_count": 5,
   "metadata": {},
   "outputs": [
    {
     "name": "stdout",
     "output_type": "stream",
     "text": [
      "red\n",
      "S\n",
      "long sleeve\n",
      "10\n"
     ]
    }
   ],
   "source": [
    "### TODO:\n",
    "#     - print the price of the shirt using the price attribute\n",
    "#     - use the change_price method to change the price of the shirt to 10\n",
    "#     - print the price of the shirt using the price attribute\n",
    "#     - use the discount method to print the price of the shirt with a 12% discount\n",
    "#\n",
    "###\n",
    "\n",
    "new_shirt = Shirt('red', 'S', 'long sleeve', 10)\n",
    "\n",
    "print(new_shirt.color)\n",
    "print(new_shirt.size)\n",
    "print(new_shirt.style)\n",
    "print(new_shirt.price)"
   ]
  },
  {
   "cell_type": "code",
   "execution_count": 6,
   "metadata": {},
   "outputs": [
    {
     "name": "stdout",
     "output_type": "stream",
     "text": [
      "red\n",
      "S\n",
      "long sleeve\n",
      "10\n"
     ]
    }
   ],
   "source": [
    "### TODO:\n",
    "#\n",
    "#    - instantiate another object with the following characteristics:\n",
    "# .       - color orange, size L, style short-sleeve, and price 10\n",
    "#    - store the object in a variable called shirt_two\n",
    "#\n",
    "###\n",
    "\n",
    "shirt_two = Shirt('red', 'S', 'long sleeve', 10)\n",
    "\n",
    "print(shirt_two.color)\n",
    "print(shirt_two.size)\n",
    "print(shirt_two.style)\n",
    "print(shirt_two.price)\n"
   ]
  },
  {
   "cell_type": "code",
   "execution_count": 9,
   "metadata": {},
   "outputs": [],
   "source": [
    "class Pants:\n",
    "    \"\"\"The Pants class represents an article of clothing sold in a store\n",
    "    \"\"\"\n",
    "\n",
    "    def __init__(self, color, waist_size, length, price):\n",
    "     \n",
    "        self.color = color\n",
    "        self.waist_size = waist_size\n",
    "        self.length = length\n",
    "        self.price = price\n",
    "\n",
    "    def change_price(self, new_price):\n",
    "   \n",
    "        self.price = new_price\n",
    "\n",
    "    def discount(self, percentage):\n",
    "  \n",
    "        return self.price * (1 - percentage)"
   ]
  },
  {
   "cell_type": "code",
   "execution_count": null,
   "metadata": {},
   "outputs": [],
   "source": [
    "### TODO:\n",
    "#\n",
    "#    - calculate the total cost of shirt_one and shirt_two\n",
    "#    - store the results in a variable called total\n",
    "#    \n",
    "###"
   ]
  },
  {
   "cell_type": "code",
   "execution_count": null,
   "metadata": {},
   "outputs": [],
   "source": []
  },
  {
   "cell_type": "code",
   "execution_count": null,
   "metadata": {},
   "outputs": [],
   "source": [
    "### TODO:\n",
    "#\n",
    "#    - use the shirt discount method to calculate the total cost if\n",
    "#       shirt_one has a discount of 14% and shirt_two has a discount\n",
    "#       of 6%\n",
    "#    - store the results in a variable called total_discount\n",
    "###"
   ]
  },
  {
   "cell_type": "code",
   "execution_count": 16,
   "metadata": {},
   "outputs": [],
   "source": [
    "# Inheritance \n",
    "# Class Clothing\n",
    "\n",
    "class Clothing:\n",
    "    def __init__(self, color, size, style, price):\n",
    "        self.color=color\n",
    "        self.size=size\n",
    "        self.style=style\n",
    "        self.price=price\n",
    "    def change_price(self, price):\n",
    "        self.price=price\n",
    "        \n",
    "    def calculate_discount(self, discount):\n",
    "        return self.price*(1-discount)\n",
    "    \n",
    "    def calculate_shipping(self, weight, rate):\n",
    "        return weight * rate\n",
    "class Shirt(Clothing):\n",
    "    def __init__(self, color, size, style, price, long_0r_short):\n",
    "        Clothing.__init__(self, color, size, style, price)\n",
    "        self.long_or_short = long_or_short\n",
    "    def double_price(self):\n",
    "        self.price =2*self.price\n",
    "class pants(Clothing):\n",
    "    def __init__(self, color, size, style, price, waist):\n",
    "        \n",
    "        Clothing.__init__(self, color, size, style, price)\n",
    "        self.waist=waist\n",
    "    def calculate_discount(self, discount):\n",
    "        return self.price*(1-discount/2)\n",
    "class Blouse(Clothing):\n",
    "    def __init__(self, color, size, style, price, country_of_origin):\n",
    "        Clothing.__init__(self, color, size, style, price)\n",
    "        self.country_of_origin=country_of_origin\n",
    "    def triple_price(self):\n",
    "        return 3*self.price\n",
    "    \n",
    "    \n",
    "        "
   ]
  },
  {
   "cell_type": "markdown",
   "metadata": {},
   "source": [
    "# Test your Code\n",
    "\n",
    "\n",
    "The following code cell tests your code. \n",
    "\n",
    "There is a file called tests.py containing a function called run_tests(). The run_tests() function executes a handful of assert statements to check your work. You can see this file if you go to the Jupyter Notebook menu and click on \"File->Open\" and then open the tests.py file.\n",
    "\n",
    "Execute the next code cell. The code will produce an error if your answers in this exercise are not what was expected. Keep working on your code until all tests are passing.\n",
    "\n",
    "If you run the code cell and there is no output, then you passed all the tests!\n",
    "\n",
    "As mentioned previously, there's also a file with a solution. To find the solution, click on the Jupyter logo at the top of the workspace, and then enter the folder titled 1.OOP_syntax_shirt_practice"
   ]
  },
  {
   "cell_type": "code",
   "execution_count": 7,
   "metadata": {},
   "outputs": [
    {
     "ename": "ImportError",
     "evalue": "cannot import name 'run_tests' from 'tests' (C:\\Users\\Henry\\Anaconda3\\lib\\site-packages\\tests\\__init__.py)",
     "output_type": "error",
     "traceback": [
      "\u001b[1;31m---------------------------------------------------------------------------\u001b[0m",
      "\u001b[1;31mImportError\u001b[0m                               Traceback (most recent call last)",
      "\u001b[1;32m<ipython-input-7-4c8ee089a60b>\u001b[0m in \u001b[0;36m<module>\u001b[1;34m\u001b[0m\n\u001b[0;32m      1\u001b[0m \u001b[1;31m# Unit tests to check your solution\u001b[0m\u001b[1;33m\u001b[0m\u001b[1;33m\u001b[0m\u001b[1;33m\u001b[0m\u001b[0m\n\u001b[1;32m----> 2\u001b[1;33m \u001b[1;32mfrom\u001b[0m \u001b[0mtests\u001b[0m \u001b[1;32mimport\u001b[0m \u001b[0mrun_tests\u001b[0m\u001b[1;33m\u001b[0m\u001b[1;33m\u001b[0m\u001b[0m\n\u001b[0m\u001b[0;32m      3\u001b[0m \u001b[1;33m\u001b[0m\u001b[0m\n\u001b[0;32m      4\u001b[0m \u001b[0mrun_tests\u001b[0m\u001b[1;33m(\u001b[0m\u001b[0mshirt_one\u001b[0m\u001b[1;33m,\u001b[0m \u001b[0mshirt_two\u001b[0m\u001b[1;33m,\u001b[0m \u001b[0mtotal\u001b[0m\u001b[1;33m,\u001b[0m \u001b[0mtotal_discount\u001b[0m\u001b[1;33m)\u001b[0m\u001b[1;33m\u001b[0m\u001b[1;33m\u001b[0m\u001b[0m\n",
      "\u001b[1;31mImportError\u001b[0m: cannot import name 'run_tests' from 'tests' (C:\\Users\\Henry\\Anaconda3\\lib\\site-packages\\tests\\__init__.py)"
     ]
    }
   ],
   "source": [
    "# Unit tests to check your solution\n",
    "from tests import run_tests\n",
    "\n",
    "run_tests(shirt_one, shirt_two, total, total_discount)"
   ]
  },
  {
   "cell_type": "code",
   "execution_count": null,
   "metadata": {},
   "outputs": [],
   "source": []
  }
 ],
 "metadata": {
  "kernelspec": {
   "display_name": "Python 3",
   "language": "python",
   "name": "python3"
  },
  "language_info": {
   "codemirror_mode": {
    "name": "ipython",
    "version": 3
   },
   "file_extension": ".py",
   "mimetype": "text/x-python",
   "name": "python",
   "nbconvert_exporter": "python",
   "pygments_lexer": "ipython3",
   "version": "3.7.6"
  }
 },
 "nbformat": 4,
 "nbformat_minor": 2
}
