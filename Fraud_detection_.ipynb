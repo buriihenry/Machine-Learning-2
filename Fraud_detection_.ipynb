{
  "nbformat": 4,
  "nbformat_minor": 0,
  "metadata": {
    "colab": {
      "name": "Fraud detection .ipynb",
      "provenance": [],
      "authorship_tag": "ABX9TyOIx7oVD2xSXb080fzsy2id",
      "include_colab_link": true
    },
    "kernelspec": {
      "name": "python3",
      "display_name": "Python 3"
    },
    "language_info": {
      "name": "python"
    }
  },
  "cells": [
    {
      "cell_type": "markdown",
      "metadata": {
        "id": "view-in-github",
        "colab_type": "text"
      },
      "source": [
        "<a href=\"https://colab.research.google.com/github/buriihenry/Machine-Learning-2/blob/master/Fraud_detection_.ipynb\" target=\"_parent\"><img src=\"https://colab.research.google.com/assets/colab-badge.svg\" alt=\"Open In Colab\"/></a>"
      ]
    },
    {
      "cell_type": "code",
      "execution_count": 1,
      "metadata": {
        "colab": {
          "base_uri": "https://localhost:8080/"
        },
        "id": "p2yoDoYlMCRj",
        "outputId": "97d8a4d2-6ebb-4ddf-dd84-db0370f0bd7c"
      },
      "outputs": [
        {
          "output_type": "stream",
          "name": "stdout",
          "text": [
            "Mounted at /content/drive\n"
          ]
        }
      ],
      "source": [
        "from google.colab import drive\n",
        "drive.mount('/content/drive')"
      ]
    },
    {
      "cell_type": "code",
      "source": [
        "import numpy as np\n",
        "import pandas as pd\n",
        "\n",
        "import matplotlib.pyplot as plt\n",
        "import seaborn as sns\n"
      ],
      "metadata": {
        "id": "4mBmVhcYMwxD"
      },
      "execution_count": 2,
      "outputs": []
    },
    {
      "cell_type": "code",
      "source": [
        "%time data = pd.read_csv('https://www.kaggle.com/sanjana08/paysim-data-analysis/data?select=PS_20174392719_1491204439457_log.csv',sep='delimiter', header=None)\n",
        "print(data.shape)"
      ],
      "metadata": {
        "colab": {
          "base_uri": "https://localhost:8080/"
        },
        "id": "XvUYaMOXM_Pi",
        "outputId": "85cde33d-816e-4336-c594-58b8f16c7303"
      },
      "execution_count": 5,
      "outputs": [
        {
          "output_type": "stream",
          "name": "stdout",
          "text": [
            "CPU times: user 11.3 ms, sys: 3.1 ms, total: 14.4 ms\n",
            "Wall time: 520 ms\n",
            "(168, 1)\n"
          ]
        },
        {
          "output_type": "stream",
          "name": "stderr",
          "text": [
            "/usr/local/lib/python3.7/dist-packages/ipykernel_launcher.py:1: ParserWarning: Falling back to the 'python' engine because the 'c' engine does not support regex separators (separators > 1 char and different from '\\s+' are interpreted as regex); you can avoid this warning by specifying engine='python'.\n",
            "  \"\"\"Entry point for launching an IPython kernel.\n"
          ]
        }
      ]
    },
    {
      "cell_type": "code",
      "source": [
        "pip install kaggle"
      ],
      "metadata": {
        "colab": {
          "base_uri": "https://localhost:8080/"
        },
        "id": "Plrp6vDMNIrY",
        "outputId": "7212abfb-9fe7-46d7-b465-4a140c244876"
      },
      "execution_count": 6,
      "outputs": [
        {
          "output_type": "stream",
          "name": "stdout",
          "text": [
            "Requirement already satisfied: kaggle in /usr/local/lib/python3.7/dist-packages (1.5.12)\n",
            "Requirement already satisfied: python-slugify in /usr/local/lib/python3.7/dist-packages (from kaggle) (5.0.2)\n",
            "Requirement already satisfied: python-dateutil in /usr/local/lib/python3.7/dist-packages (from kaggle) (2.8.2)\n",
            "Requirement already satisfied: tqdm in /usr/local/lib/python3.7/dist-packages (from kaggle) (4.62.3)\n",
            "Requirement already satisfied: certifi in /usr/local/lib/python3.7/dist-packages (from kaggle) (2021.10.8)\n",
            "Requirement already satisfied: urllib3 in /usr/local/lib/python3.7/dist-packages (from kaggle) (1.24.3)\n",
            "Requirement already satisfied: six>=1.10 in /usr/local/lib/python3.7/dist-packages (from kaggle) (1.15.0)\n",
            "Requirement already satisfied: requests in /usr/local/lib/python3.7/dist-packages (from kaggle) (2.23.0)\n",
            "Requirement already satisfied: text-unidecode>=1.3 in /usr/local/lib/python3.7/dist-packages (from python-slugify->kaggle) (1.3)\n",
            "Requirement already satisfied: chardet<4,>=3.0.2 in /usr/local/lib/python3.7/dist-packages (from requests->kaggle) (3.0.4)\n",
            "Requirement already satisfied: idna<3,>=2.5 in /usr/local/lib/python3.7/dist-packages (from requests->kaggle) (2.10)\n"
          ]
        }
      ]
    },
    {
      "cell_type": "code",
      "source": [
        "#Creating an API toke to read from kaggle\n",
        "#mkdir ~/.kaggle\n",
        "#cp kaggle.json ~/.kaggle/\n",
        "#! chmod 600 ~/.kaggle/kaggle.json\n",
        "#!kaggle datasets download -d kaggle kernels pull sanjana08/paysim-data-analysis"
      ],
      "metadata": {
        "id": "5qV_8Fg2S5pW"
      },
      "execution_count": 7,
      "outputs": []
    },
    {
      "cell_type": "code",
      "source": [
        "data = pd.read_csv('drive/My Drive/Projects/Fraud.csv')\n",
        "data.sample(15)\n"
      ],
      "metadata": {
        "colab": {
          "base_uri": "https://localhost:8080/",
          "height": 520
        },
        "id": "wCDSd6DqTx0h",
        "outputId": "fe303c64-2bc5-428d-d97f-fe906e1a656a"
      },
      "execution_count": 22,
      "outputs": [
        {
          "output_type": "execute_result",
          "data": {
            "text/html": [
              "\n",
              "  <div id=\"df-dce9ed6f-ce72-4501-b43a-0d2d855a54ef\">\n",
              "    <div class=\"colab-df-container\">\n",
              "      <div>\n",
              "<style scoped>\n",
              "    .dataframe tbody tr th:only-of-type {\n",
              "        vertical-align: middle;\n",
              "    }\n",
              "\n",
              "    .dataframe tbody tr th {\n",
              "        vertical-align: top;\n",
              "    }\n",
              "\n",
              "    .dataframe thead th {\n",
              "        text-align: right;\n",
              "    }\n",
              "</style>\n",
              "<table border=\"1\" class=\"dataframe\">\n",
              "  <thead>\n",
              "    <tr style=\"text-align: right;\">\n",
              "      <th></th>\n",
              "      <th>step</th>\n",
              "      <th>type</th>\n",
              "      <th>amount</th>\n",
              "      <th>nameOrig</th>\n",
              "      <th>oldbalanceOrg</th>\n",
              "      <th>newbalanceOrig</th>\n",
              "      <th>nameDest</th>\n",
              "      <th>oldbalanceDest</th>\n",
              "      <th>newbalanceDest</th>\n",
              "      <th>isFraud</th>\n",
              "      <th>isFlaggedFraud</th>\n",
              "    </tr>\n",
              "  </thead>\n",
              "  <tbody>\n",
              "    <tr>\n",
              "      <th>2563946</th>\n",
              "      <td>206</td>\n",
              "      <td>CASH_OUT</td>\n",
              "      <td>178924.31</td>\n",
              "      <td>C1648733</td>\n",
              "      <td>0.00</td>\n",
              "      <td>0.00</td>\n",
              "      <td>C1511812779</td>\n",
              "      <td>1272319.76</td>\n",
              "      <td>1451244.08</td>\n",
              "      <td>0</td>\n",
              "      <td>0</td>\n",
              "    </tr>\n",
              "    <tr>\n",
              "      <th>5219738</th>\n",
              "      <td>370</td>\n",
              "      <td>CASH_IN</td>\n",
              "      <td>141095.46</td>\n",
              "      <td>C1645849754</td>\n",
              "      <td>2084514.15</td>\n",
              "      <td>2225609.61</td>\n",
              "      <td>C737911557</td>\n",
              "      <td>4819791.82</td>\n",
              "      <td>4678696.36</td>\n",
              "      <td>0</td>\n",
              "      <td>0</td>\n",
              "    </tr>\n",
              "    <tr>\n",
              "      <th>5145404</th>\n",
              "      <td>356</td>\n",
              "      <td>PAYMENT</td>\n",
              "      <td>1362.20</td>\n",
              "      <td>C1102190233</td>\n",
              "      <td>0.00</td>\n",
              "      <td>0.00</td>\n",
              "      <td>M1536544743</td>\n",
              "      <td>0.00</td>\n",
              "      <td>0.00</td>\n",
              "      <td>0</td>\n",
              "      <td>0</td>\n",
              "    </tr>\n",
              "    <tr>\n",
              "      <th>2392338</th>\n",
              "      <td>201</td>\n",
              "      <td>PAYMENT</td>\n",
              "      <td>8276.10</td>\n",
              "      <td>C1760342345</td>\n",
              "      <td>45979.00</td>\n",
              "      <td>37702.90</td>\n",
              "      <td>M1383155385</td>\n",
              "      <td>0.00</td>\n",
              "      <td>0.00</td>\n",
              "      <td>0</td>\n",
              "      <td>0</td>\n",
              "    </tr>\n",
              "    <tr>\n",
              "      <th>259889</th>\n",
              "      <td>14</td>\n",
              "      <td>CASH_IN</td>\n",
              "      <td>274382.76</td>\n",
              "      <td>C150794917</td>\n",
              "      <td>70909.00</td>\n",
              "      <td>345291.76</td>\n",
              "      <td>C864016033</td>\n",
              "      <td>1484991.45</td>\n",
              "      <td>1210608.69</td>\n",
              "      <td>0</td>\n",
              "      <td>0</td>\n",
              "    </tr>\n",
              "    <tr>\n",
              "      <th>5030316</th>\n",
              "      <td>354</td>\n",
              "      <td>CASH_OUT</td>\n",
              "      <td>131421.53</td>\n",
              "      <td>C5361793</td>\n",
              "      <td>51730.00</td>\n",
              "      <td>0.00</td>\n",
              "      <td>C1873205388</td>\n",
              "      <td>506855.12</td>\n",
              "      <td>638276.65</td>\n",
              "      <td>0</td>\n",
              "      <td>0</td>\n",
              "    </tr>\n",
              "    <tr>\n",
              "      <th>5661735</th>\n",
              "      <td>396</td>\n",
              "      <td>PAYMENT</td>\n",
              "      <td>35884.72</td>\n",
              "      <td>C108953731</td>\n",
              "      <td>37649.00</td>\n",
              "      <td>1764.28</td>\n",
              "      <td>M1443500560</td>\n",
              "      <td>0.00</td>\n",
              "      <td>0.00</td>\n",
              "      <td>0</td>\n",
              "      <td>0</td>\n",
              "    </tr>\n",
              "    <tr>\n",
              "      <th>4790854</th>\n",
              "      <td>345</td>\n",
              "      <td>TRANSFER</td>\n",
              "      <td>3696465.78</td>\n",
              "      <td>C311318911</td>\n",
              "      <td>79636.00</td>\n",
              "      <td>0.00</td>\n",
              "      <td>C601123469</td>\n",
              "      <td>4597719.14</td>\n",
              "      <td>8294184.92</td>\n",
              "      <td>0</td>\n",
              "      <td>0</td>\n",
              "    </tr>\n",
              "    <tr>\n",
              "      <th>4868338</th>\n",
              "      <td>348</td>\n",
              "      <td>CASH_IN</td>\n",
              "      <td>147113.57</td>\n",
              "      <td>C1964466346</td>\n",
              "      <td>107814.00</td>\n",
              "      <td>254927.57</td>\n",
              "      <td>C2105819249</td>\n",
              "      <td>14655.06</td>\n",
              "      <td>0.00</td>\n",
              "      <td>0</td>\n",
              "      <td>0</td>\n",
              "    </tr>\n",
              "    <tr>\n",
              "      <th>2657058</th>\n",
              "      <td>210</td>\n",
              "      <td>TRANSFER</td>\n",
              "      <td>623712.24</td>\n",
              "      <td>C1738505379</td>\n",
              "      <td>31073.00</td>\n",
              "      <td>0.00</td>\n",
              "      <td>C526316126</td>\n",
              "      <td>762.00</td>\n",
              "      <td>652155.36</td>\n",
              "      <td>0</td>\n",
              "      <td>0</td>\n",
              "    </tr>\n",
              "    <tr>\n",
              "      <th>1816666</th>\n",
              "      <td>163</td>\n",
              "      <td>PAYMENT</td>\n",
              "      <td>8650.85</td>\n",
              "      <td>C2127976806</td>\n",
              "      <td>210425.16</td>\n",
              "      <td>201774.30</td>\n",
              "      <td>M531967117</td>\n",
              "      <td>0.00</td>\n",
              "      <td>0.00</td>\n",
              "      <td>0</td>\n",
              "      <td>0</td>\n",
              "    </tr>\n",
              "    <tr>\n",
              "      <th>4358268</th>\n",
              "      <td>309</td>\n",
              "      <td>PAYMENT</td>\n",
              "      <td>38468.89</td>\n",
              "      <td>C842099260</td>\n",
              "      <td>123.00</td>\n",
              "      <td>0.00</td>\n",
              "      <td>M403947901</td>\n",
              "      <td>0.00</td>\n",
              "      <td>0.00</td>\n",
              "      <td>0</td>\n",
              "      <td>0</td>\n",
              "    </tr>\n",
              "    <tr>\n",
              "      <th>3347107</th>\n",
              "      <td>253</td>\n",
              "      <td>PAYMENT</td>\n",
              "      <td>6848.55</td>\n",
              "      <td>C2078997292</td>\n",
              "      <td>0.00</td>\n",
              "      <td>0.00</td>\n",
              "      <td>M1469132914</td>\n",
              "      <td>0.00</td>\n",
              "      <td>0.00</td>\n",
              "      <td>0</td>\n",
              "      <td>0</td>\n",
              "    </tr>\n",
              "    <tr>\n",
              "      <th>1302547</th>\n",
              "      <td>136</td>\n",
              "      <td>CASH_OUT</td>\n",
              "      <td>74374.78</td>\n",
              "      <td>C6062444</td>\n",
              "      <td>508302.00</td>\n",
              "      <td>433927.22</td>\n",
              "      <td>C2102757989</td>\n",
              "      <td>0.00</td>\n",
              "      <td>74374.78</td>\n",
              "      <td>0</td>\n",
              "      <td>0</td>\n",
              "    </tr>\n",
              "    <tr>\n",
              "      <th>197086</th>\n",
              "      <td>13</td>\n",
              "      <td>PAYMENT</td>\n",
              "      <td>8987.10</td>\n",
              "      <td>C768867128</td>\n",
              "      <td>427.00</td>\n",
              "      <td>0.00</td>\n",
              "      <td>M1002424096</td>\n",
              "      <td>0.00</td>\n",
              "      <td>0.00</td>\n",
              "      <td>0</td>\n",
              "      <td>0</td>\n",
              "    </tr>\n",
              "  </tbody>\n",
              "</table>\n",
              "</div>\n",
              "      <button class=\"colab-df-convert\" onclick=\"convertToInteractive('df-dce9ed6f-ce72-4501-b43a-0d2d855a54ef')\"\n",
              "              title=\"Convert this dataframe to an interactive table.\"\n",
              "              style=\"display:none;\">\n",
              "        \n",
              "  <svg xmlns=\"http://www.w3.org/2000/svg\" height=\"24px\"viewBox=\"0 0 24 24\"\n",
              "       width=\"24px\">\n",
              "    <path d=\"M0 0h24v24H0V0z\" fill=\"none\"/>\n",
              "    <path d=\"M18.56 5.44l.94 2.06.94-2.06 2.06-.94-2.06-.94-.94-2.06-.94 2.06-2.06.94zm-11 1L8.5 8.5l.94-2.06 2.06-.94-2.06-.94L8.5 2.5l-.94 2.06-2.06.94zm10 10l.94 2.06.94-2.06 2.06-.94-2.06-.94-.94-2.06-.94 2.06-2.06.94z\"/><path d=\"M17.41 7.96l-1.37-1.37c-.4-.4-.92-.59-1.43-.59-.52 0-1.04.2-1.43.59L10.3 9.45l-7.72 7.72c-.78.78-.78 2.05 0 2.83L4 21.41c.39.39.9.59 1.41.59.51 0 1.02-.2 1.41-.59l7.78-7.78 2.81-2.81c.8-.78.8-2.07 0-2.86zM5.41 20L4 18.59l7.72-7.72 1.47 1.35L5.41 20z\"/>\n",
              "  </svg>\n",
              "      </button>\n",
              "      \n",
              "  <style>\n",
              "    .colab-df-container {\n",
              "      display:flex;\n",
              "      flex-wrap:wrap;\n",
              "      gap: 12px;\n",
              "    }\n",
              "\n",
              "    .colab-df-convert {\n",
              "      background-color: #E8F0FE;\n",
              "      border: none;\n",
              "      border-radius: 50%;\n",
              "      cursor: pointer;\n",
              "      display: none;\n",
              "      fill: #1967D2;\n",
              "      height: 32px;\n",
              "      padding: 0 0 0 0;\n",
              "      width: 32px;\n",
              "    }\n",
              "\n",
              "    .colab-df-convert:hover {\n",
              "      background-color: #E2EBFA;\n",
              "      box-shadow: 0px 1px 2px rgba(60, 64, 67, 0.3), 0px 1px 3px 1px rgba(60, 64, 67, 0.15);\n",
              "      fill: #174EA6;\n",
              "    }\n",
              "\n",
              "    [theme=dark] .colab-df-convert {\n",
              "      background-color: #3B4455;\n",
              "      fill: #D2E3FC;\n",
              "    }\n",
              "\n",
              "    [theme=dark] .colab-df-convert:hover {\n",
              "      background-color: #434B5C;\n",
              "      box-shadow: 0px 1px 3px 1px rgba(0, 0, 0, 0.15);\n",
              "      filter: drop-shadow(0px 1px 2px rgba(0, 0, 0, 0.3));\n",
              "      fill: #FFFFFF;\n",
              "    }\n",
              "  </style>\n",
              "\n",
              "      <script>\n",
              "        const buttonEl =\n",
              "          document.querySelector('#df-dce9ed6f-ce72-4501-b43a-0d2d855a54ef button.colab-df-convert');\n",
              "        buttonEl.style.display =\n",
              "          google.colab.kernel.accessAllowed ? 'block' : 'none';\n",
              "\n",
              "        async function convertToInteractive(key) {\n",
              "          const element = document.querySelector('#df-dce9ed6f-ce72-4501-b43a-0d2d855a54ef');\n",
              "          const dataTable =\n",
              "            await google.colab.kernel.invokeFunction('convertToInteractive',\n",
              "                                                     [key], {});\n",
              "          if (!dataTable) return;\n",
              "\n",
              "          const docLinkHtml = 'Like what you see? Visit the ' +\n",
              "            '<a target=\"_blank\" href=https://colab.research.google.com/notebooks/data_table.ipynb>data table notebook</a>'\n",
              "            + ' to learn more about interactive tables.';\n",
              "          element.innerHTML = '';\n",
              "          dataTable['output_type'] = 'display_data';\n",
              "          await google.colab.output.renderOutput(dataTable, element);\n",
              "          const docLink = document.createElement('div');\n",
              "          docLink.innerHTML = docLinkHtml;\n",
              "          element.appendChild(docLink);\n",
              "        }\n",
              "      </script>\n",
              "    </div>\n",
              "  </div>\n",
              "  "
            ],
            "text/plain": [
              "         step      type      amount  ... newbalanceDest  isFraud  isFlaggedFraud\n",
              "2563946   206  CASH_OUT   178924.31  ...     1451244.08        0               0\n",
              "5219738   370   CASH_IN   141095.46  ...     4678696.36        0               0\n",
              "5145404   356   PAYMENT     1362.20  ...           0.00        0               0\n",
              "2392338   201   PAYMENT     8276.10  ...           0.00        0               0\n",
              "259889     14   CASH_IN   274382.76  ...     1210608.69        0               0\n",
              "5030316   354  CASH_OUT   131421.53  ...      638276.65        0               0\n",
              "5661735   396   PAYMENT    35884.72  ...           0.00        0               0\n",
              "4790854   345  TRANSFER  3696465.78  ...     8294184.92        0               0\n",
              "4868338   348   CASH_IN   147113.57  ...           0.00        0               0\n",
              "2657058   210  TRANSFER   623712.24  ...      652155.36        0               0\n",
              "1816666   163   PAYMENT     8650.85  ...           0.00        0               0\n",
              "4358268   309   PAYMENT    38468.89  ...           0.00        0               0\n",
              "3347107   253   PAYMENT     6848.55  ...           0.00        0               0\n",
              "1302547   136  CASH_OUT    74374.78  ...       74374.78        0               0\n",
              "197086     13   PAYMENT     8987.10  ...           0.00        0               0\n",
              "\n",
              "[15 rows x 11 columns]"
            ]
          },
          "metadata": {},
          "execution_count": 22
        }
      ]
    },
    {
      "cell_type": "code",
      "source": [
        "# getting the information related to data\n",
        "\n",
        "data.info()"
      ],
      "metadata": {
        "colab": {
          "base_uri": "https://localhost:8080/"
        },
        "id": "xCi_j-uRYqQG",
        "outputId": "061e4c36-3702-4fc8-e02d-bec419c0487e"
      },
      "execution_count": 23,
      "outputs": [
        {
          "output_type": "stream",
          "name": "stdout",
          "text": [
            "<class 'pandas.core.frame.DataFrame'>\n",
            "RangeIndex: 6362620 entries, 0 to 6362619\n",
            "Data columns (total 11 columns):\n",
            " #   Column          Dtype  \n",
            "---  ------          -----  \n",
            " 0   step            int64  \n",
            " 1   type            object \n",
            " 2   amount          float64\n",
            " 3   nameOrig        object \n",
            " 4   oldbalanceOrg   float64\n",
            " 5   newbalanceOrig  float64\n",
            " 6   nameDest        object \n",
            " 7   oldbalanceDest  float64\n",
            " 8   newbalanceDest  float64\n",
            " 9   isFraud         int64  \n",
            " 10  isFlaggedFraud  int64  \n",
            "dtypes: float64(5), int64(3), object(3)\n",
            "memory usage: 534.0+ MB\n"
          ]
        }
      ]
    },
    {
      "cell_type": "code",
      "source": [
        "\n"
      ],
      "metadata": {
        "id": "VQ5dExYTTBbg"
      },
      "execution_count": 10,
      "outputs": []
    },
    {
      "cell_type": "code",
      "source": [
        ""
      ],
      "metadata": {
        "id": "9bt5fGa9ZI7D"
      },
      "execution_count": null,
      "outputs": []
    }
  ]
}